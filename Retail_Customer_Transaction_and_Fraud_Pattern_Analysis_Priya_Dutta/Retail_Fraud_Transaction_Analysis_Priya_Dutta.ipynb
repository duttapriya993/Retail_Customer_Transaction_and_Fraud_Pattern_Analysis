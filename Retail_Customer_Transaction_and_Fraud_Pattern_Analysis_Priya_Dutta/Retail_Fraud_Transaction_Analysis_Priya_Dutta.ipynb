{
 "cells": [
  {
   "cell_type": "markdown",
   "id": "24200d90",
   "metadata": {},
   "source": [
    "# 💳 Customer Transaction Analysis with Fraud Detection\n",
    "\n",
    "**Tools Used:** Python (Pandas, Matplotlib, Seaborn)\n",
    "\n",
    "**Objective:** Analyze customer transaction data to identify revenue trends, top contributors, and detect fraud patterns.\n"
   ]
  },
  {
   "cell_type": "markdown",
   "id": "c2942426-b9eb-4109-a886-4d73aad8e558",
   "metadata": {},
   "source": [
    "## Step 1: Import Required Libraries"
   ]
  },
  {
   "cell_type": "code",
   "execution_count": 2,
   "id": "ead0d409",
   "metadata": {},
   "outputs": [],
   "source": [
    "import pandas as pd\n",
    "import matplotlib.pyplot as plt\n",
    "import seaborn as sns\n",
    "import warnings\n",
    "warnings.filterwarnings(\"ignore\")"
   ]
  },
  {
   "cell_type": "markdown",
   "id": "307adb3d-4814-4f4d-a90b-f88801da1ffa",
   "metadata": {},
   "source": [
    "## Step 2: Load Dataset"
   ]
  },
  {
   "cell_type": "code",
   "execution_count": 4,
   "id": "43d4ca93",
   "metadata": {},
   "outputs": [
    {
     "data": {
      "text/html": [
       "<div>\n",
       "<style scoped>\n",
       "    .dataframe tbody tr th:only-of-type {\n",
       "        vertical-align: middle;\n",
       "    }\n",
       "\n",
       "    .dataframe tbody tr th {\n",
       "        vertical-align: top;\n",
       "    }\n",
       "\n",
       "    .dataframe thead th {\n",
       "        text-align: right;\n",
       "    }\n",
       "</style>\n",
       "<table border=\"1\" class=\"dataframe\">\n",
       "  <thead>\n",
       "    <tr style=\"text-align: right;\">\n",
       "      <th></th>\n",
       "      <th>TransactionID</th>\n",
       "      <th>CustomerID</th>\n",
       "      <th>MerchantID</th>\n",
       "      <th>TransactionDate</th>\n",
       "      <th>Amount</th>\n",
       "      <th>PaymentType</th>\n",
       "      <th>IsFraud</th>\n",
       "      <th>Name</th>\n",
       "      <th>Gender</th>\n",
       "      <th>AgeGroup</th>\n",
       "      <th>Region</th>\n",
       "      <th>SignupDate</th>\n",
       "      <th>MerchantName</th>\n",
       "      <th>Category</th>\n",
       "      <th>City</th>\n",
       "      <th>Country</th>\n",
       "    </tr>\n",
       "  </thead>\n",
       "  <tbody>\n",
       "    <tr>\n",
       "      <th>0</th>\n",
       "      <td>TXN000001</td>\n",
       "      <td>CUST0449</td>\n",
       "      <td>MERCH0096</td>\n",
       "      <td>2024-10-03 17:43:09.307</td>\n",
       "      <td>29812.95</td>\n",
       "      <td>Debit Card</td>\n",
       "      <td>0</td>\n",
       "      <td>Customer_449</td>\n",
       "      <td>Male</td>\n",
       "      <td>18-25</td>\n",
       "      <td>East</td>\n",
       "      <td>2024-06-23 17:43:09.293</td>\n",
       "      <td>Merchant_96</td>\n",
       "      <td>Grocery</td>\n",
       "      <td>Chennai</td>\n",
       "      <td>India</td>\n",
       "    </tr>\n",
       "    <tr>\n",
       "      <th>1</th>\n",
       "      <td>TXN000002</td>\n",
       "      <td>CUST0087</td>\n",
       "      <td>MERCH0032</td>\n",
       "      <td>2025-03-04 17:43:09.307</td>\n",
       "      <td>38879.93</td>\n",
       "      <td>Net Banking</td>\n",
       "      <td>0</td>\n",
       "      <td>Customer_87</td>\n",
       "      <td>Female</td>\n",
       "      <td>46-60</td>\n",
       "      <td>South</td>\n",
       "      <td>2025-02-11 17:43:09.290</td>\n",
       "      <td>Merchant_32</td>\n",
       "      <td>Home Decor</td>\n",
       "      <td>Delhi</td>\n",
       "      <td>India</td>\n",
       "    </tr>\n",
       "    <tr>\n",
       "      <th>2</th>\n",
       "      <td>TXN000003</td>\n",
       "      <td>CUST0101</td>\n",
       "      <td>MERCH0053</td>\n",
       "      <td>2025-04-01 17:43:09.307</td>\n",
       "      <td>25345.72</td>\n",
       "      <td>Net Banking</td>\n",
       "      <td>0</td>\n",
       "      <td>Customer_101</td>\n",
       "      <td>Male</td>\n",
       "      <td>26-35</td>\n",
       "      <td>East</td>\n",
       "      <td>2021-07-12 17:43:09.290</td>\n",
       "      <td>Merchant_53</td>\n",
       "      <td>Beauty</td>\n",
       "      <td>Mumbai</td>\n",
       "      <td>India</td>\n",
       "    </tr>\n",
       "    <tr>\n",
       "      <th>3</th>\n",
       "      <td>TXN000004</td>\n",
       "      <td>CUST0008</td>\n",
       "      <td>MERCH0059</td>\n",
       "      <td>2024-08-14 17:43:09.310</td>\n",
       "      <td>25519.15</td>\n",
       "      <td>Net Banking</td>\n",
       "      <td>0</td>\n",
       "      <td>Customer_8</td>\n",
       "      <td>Male</td>\n",
       "      <td>26-35</td>\n",
       "      <td>West</td>\n",
       "      <td>2022-08-14 17:43:09.290</td>\n",
       "      <td>Merchant_59</td>\n",
       "      <td>Clothing</td>\n",
       "      <td>Delhi</td>\n",
       "      <td>India</td>\n",
       "    </tr>\n",
       "    <tr>\n",
       "      <th>4</th>\n",
       "      <td>TXN000005</td>\n",
       "      <td>CUST0200</td>\n",
       "      <td>MERCH0069</td>\n",
       "      <td>2024-10-29 17:43:09.310</td>\n",
       "      <td>36293.00</td>\n",
       "      <td>Credit Card</td>\n",
       "      <td>0</td>\n",
       "      <td>Customer_200</td>\n",
       "      <td>Male</td>\n",
       "      <td>46-60</td>\n",
       "      <td>North</td>\n",
       "      <td>2023-12-17 17:43:09.290</td>\n",
       "      <td>Merchant_69</td>\n",
       "      <td>Grocery</td>\n",
       "      <td>Ahmedabad</td>\n",
       "      <td>India</td>\n",
       "    </tr>\n",
       "  </tbody>\n",
       "</table>\n",
       "</div>"
      ],
      "text/plain": [
       "  TransactionID CustomerID MerchantID          TransactionDate    Amount  \\\n",
       "0     TXN000001   CUST0449  MERCH0096  2024-10-03 17:43:09.307  29812.95   \n",
       "1     TXN000002   CUST0087  MERCH0032  2025-03-04 17:43:09.307  38879.93   \n",
       "2     TXN000003   CUST0101  MERCH0053  2025-04-01 17:43:09.307  25345.72   \n",
       "3     TXN000004   CUST0008  MERCH0059  2024-08-14 17:43:09.310  25519.15   \n",
       "4     TXN000005   CUST0200  MERCH0069  2024-10-29 17:43:09.310  36293.00   \n",
       "\n",
       "   PaymentType  IsFraud          Name  Gender AgeGroup Region  \\\n",
       "0   Debit Card        0  Customer_449    Male    18-25   East   \n",
       "1  Net Banking        0   Customer_87  Female    46-60  South   \n",
       "2  Net Banking        0  Customer_101    Male    26-35   East   \n",
       "3  Net Banking        0    Customer_8    Male    26-35   West   \n",
       "4  Credit Card        0  Customer_200    Male    46-60  North   \n",
       "\n",
       "                SignupDate MerchantName    Category       City Country  \n",
       "0  2024-06-23 17:43:09.293  Merchant_96     Grocery    Chennai   India  \n",
       "1  2025-02-11 17:43:09.290  Merchant_32  Home Decor      Delhi   India  \n",
       "2  2021-07-12 17:43:09.290  Merchant_53      Beauty     Mumbai   India  \n",
       "3  2022-08-14 17:43:09.290  Merchant_59    Clothing      Delhi   India  \n",
       "4  2023-12-17 17:43:09.290  Merchant_69     Grocery  Ahmedabad   India  "
      ]
     },
     "execution_count": 4,
     "metadata": {},
     "output_type": "execute_result"
    }
   ],
   "source": [
    "df = pd.read_csv(\"Customer_Transaction_Merged_Cleaned.csv\")\n",
    "df.head()"
   ]
  },
  {
   "cell_type": "markdown",
   "id": "f27f9bbd-0b2b-4efe-8aec-02d22b45b111",
   "metadata": {},
   "source": [
    "## Step 3: Convert transaction_date to datetime format"
   ]
  },
  {
   "cell_type": "code",
   "execution_count": 5,
   "id": "973f5b2f-4e45-4dca-bf66-edd3ce226d5a",
   "metadata": {},
   "outputs": [
    {
     "data": {
      "text/html": [
       "<div>\n",
       "<style scoped>\n",
       "    .dataframe tbody tr th:only-of-type {\n",
       "        vertical-align: middle;\n",
       "    }\n",
       "\n",
       "    .dataframe tbody tr th {\n",
       "        vertical-align: top;\n",
       "    }\n",
       "\n",
       "    .dataframe thead th {\n",
       "        text-align: right;\n",
       "    }\n",
       "</style>\n",
       "<table border=\"1\" class=\"dataframe\">\n",
       "  <thead>\n",
       "    <tr style=\"text-align: right;\">\n",
       "      <th></th>\n",
       "      <th>TransactionID</th>\n",
       "      <th>CustomerID</th>\n",
       "      <th>MerchantID</th>\n",
       "      <th>TransactionDate</th>\n",
       "      <th>Amount</th>\n",
       "      <th>PaymentType</th>\n",
       "      <th>IsFraud</th>\n",
       "      <th>Name</th>\n",
       "      <th>Gender</th>\n",
       "      <th>AgeGroup</th>\n",
       "      <th>Region</th>\n",
       "      <th>SignupDate</th>\n",
       "      <th>MerchantName</th>\n",
       "      <th>Category</th>\n",
       "      <th>City</th>\n",
       "      <th>Country</th>\n",
       "      <th>year</th>\n",
       "      <th>month</th>\n",
       "    </tr>\n",
       "  </thead>\n",
       "  <tbody>\n",
       "    <tr>\n",
       "      <th>0</th>\n",
       "      <td>TXN000001</td>\n",
       "      <td>CUST0449</td>\n",
       "      <td>MERCH0096</td>\n",
       "      <td>2024-10-03 17:43:09.307</td>\n",
       "      <td>29812.95</td>\n",
       "      <td>Debit Card</td>\n",
       "      <td>0</td>\n",
       "      <td>Customer_449</td>\n",
       "      <td>Male</td>\n",
       "      <td>18-25</td>\n",
       "      <td>East</td>\n",
       "      <td>2024-06-23 17:43:09.293</td>\n",
       "      <td>Merchant_96</td>\n",
       "      <td>Grocery</td>\n",
       "      <td>Chennai</td>\n",
       "      <td>India</td>\n",
       "      <td>2024</td>\n",
       "      <td>10</td>\n",
       "    </tr>\n",
       "    <tr>\n",
       "      <th>1</th>\n",
       "      <td>TXN000002</td>\n",
       "      <td>CUST0087</td>\n",
       "      <td>MERCH0032</td>\n",
       "      <td>2025-03-04 17:43:09.307</td>\n",
       "      <td>38879.93</td>\n",
       "      <td>Net Banking</td>\n",
       "      <td>0</td>\n",
       "      <td>Customer_87</td>\n",
       "      <td>Female</td>\n",
       "      <td>46-60</td>\n",
       "      <td>South</td>\n",
       "      <td>2025-02-11 17:43:09.290</td>\n",
       "      <td>Merchant_32</td>\n",
       "      <td>Home Decor</td>\n",
       "      <td>Delhi</td>\n",
       "      <td>India</td>\n",
       "      <td>2025</td>\n",
       "      <td>3</td>\n",
       "    </tr>\n",
       "    <tr>\n",
       "      <th>2</th>\n",
       "      <td>TXN000003</td>\n",
       "      <td>CUST0101</td>\n",
       "      <td>MERCH0053</td>\n",
       "      <td>2025-04-01 17:43:09.307</td>\n",
       "      <td>25345.72</td>\n",
       "      <td>Net Banking</td>\n",
       "      <td>0</td>\n",
       "      <td>Customer_101</td>\n",
       "      <td>Male</td>\n",
       "      <td>26-35</td>\n",
       "      <td>East</td>\n",
       "      <td>2021-07-12 17:43:09.290</td>\n",
       "      <td>Merchant_53</td>\n",
       "      <td>Beauty</td>\n",
       "      <td>Mumbai</td>\n",
       "      <td>India</td>\n",
       "      <td>2025</td>\n",
       "      <td>4</td>\n",
       "    </tr>\n",
       "    <tr>\n",
       "      <th>3</th>\n",
       "      <td>TXN000004</td>\n",
       "      <td>CUST0008</td>\n",
       "      <td>MERCH0059</td>\n",
       "      <td>2024-08-14 17:43:09.310</td>\n",
       "      <td>25519.15</td>\n",
       "      <td>Net Banking</td>\n",
       "      <td>0</td>\n",
       "      <td>Customer_8</td>\n",
       "      <td>Male</td>\n",
       "      <td>26-35</td>\n",
       "      <td>West</td>\n",
       "      <td>2022-08-14 17:43:09.290</td>\n",
       "      <td>Merchant_59</td>\n",
       "      <td>Clothing</td>\n",
       "      <td>Delhi</td>\n",
       "      <td>India</td>\n",
       "      <td>2024</td>\n",
       "      <td>8</td>\n",
       "    </tr>\n",
       "    <tr>\n",
       "      <th>4</th>\n",
       "      <td>TXN000005</td>\n",
       "      <td>CUST0200</td>\n",
       "      <td>MERCH0069</td>\n",
       "      <td>2024-10-29 17:43:09.310</td>\n",
       "      <td>36293.00</td>\n",
       "      <td>Credit Card</td>\n",
       "      <td>0</td>\n",
       "      <td>Customer_200</td>\n",
       "      <td>Male</td>\n",
       "      <td>46-60</td>\n",
       "      <td>North</td>\n",
       "      <td>2023-12-17 17:43:09.290</td>\n",
       "      <td>Merchant_69</td>\n",
       "      <td>Grocery</td>\n",
       "      <td>Ahmedabad</td>\n",
       "      <td>India</td>\n",
       "      <td>2024</td>\n",
       "      <td>10</td>\n",
       "    </tr>\n",
       "  </tbody>\n",
       "</table>\n",
       "</div>"
      ],
      "text/plain": [
       "  TransactionID CustomerID MerchantID         TransactionDate    Amount  \\\n",
       "0     TXN000001   CUST0449  MERCH0096 2024-10-03 17:43:09.307  29812.95   \n",
       "1     TXN000002   CUST0087  MERCH0032 2025-03-04 17:43:09.307  38879.93   \n",
       "2     TXN000003   CUST0101  MERCH0053 2025-04-01 17:43:09.307  25345.72   \n",
       "3     TXN000004   CUST0008  MERCH0059 2024-08-14 17:43:09.310  25519.15   \n",
       "4     TXN000005   CUST0200  MERCH0069 2024-10-29 17:43:09.310  36293.00   \n",
       "\n",
       "   PaymentType  IsFraud          Name  Gender AgeGroup Region  \\\n",
       "0   Debit Card        0  Customer_449    Male    18-25   East   \n",
       "1  Net Banking        0   Customer_87  Female    46-60  South   \n",
       "2  Net Banking        0  Customer_101    Male    26-35   East   \n",
       "3  Net Banking        0    Customer_8    Male    26-35   West   \n",
       "4  Credit Card        0  Customer_200    Male    46-60  North   \n",
       "\n",
       "                SignupDate MerchantName    Category       City Country  year  \\\n",
       "0  2024-06-23 17:43:09.293  Merchant_96     Grocery    Chennai   India  2024   \n",
       "1  2025-02-11 17:43:09.290  Merchant_32  Home Decor      Delhi   India  2025   \n",
       "2  2021-07-12 17:43:09.290  Merchant_53      Beauty     Mumbai   India  2025   \n",
       "3  2022-08-14 17:43:09.290  Merchant_59    Clothing      Delhi   India  2024   \n",
       "4  2023-12-17 17:43:09.290  Merchant_69     Grocery  Ahmedabad   India  2024   \n",
       "\n",
       "   month  \n",
       "0     10  \n",
       "1      3  \n",
       "2      4  \n",
       "3      8  \n",
       "4     10  "
      ]
     },
     "execution_count": 5,
     "metadata": {},
     "output_type": "execute_result"
    }
   ],
   "source": [
    "df['TransactionDate'] = pd.to_datetime(df['TransactionDate'])\n",
    "\n",
    "# Extract year and month for trend analysis\n",
    "df['year'] = df['TransactionDate'].dt.year\n",
    "df['month'] = df['TransactionDate'].dt.month\n",
    "df.head(5)"
   ]
  },
  {
   "cell_type": "markdown",
   "id": "b76537a9-8791-43cc-8f60-73b22efc6969",
   "metadata": {},
   "source": [
    "## Step 4: Basic Performance Metrics"
   ]
  },
  {
   "cell_type": "code",
   "execution_count": 6,
   "id": "04ef2978-ebab-45ea-ba5f-134be93c8f29",
   "metadata": {},
   "outputs": [
    {
     "name": "stdout",
     "output_type": "stream",
     "text": [
      "Total Transactions: 7500\n",
      "Total Revenue: ₹191,549,764.79\n",
      "Average Transaction Value: ₹25,539.97\n",
      "Total Fraudulent Transactions: 364\n"
     ]
    }
   ],
   "source": [
    "total_transactions = df.shape[0]\n",
    "total_revenue = df['Amount'].sum()\n",
    "avg_transaction_value = df['Amount'].mean()\n",
    "fraud_count = df[df['IsFraud'] == 1].shape[0]\n",
    "\n",
    "print(f\"Total Transactions: {total_transactions}\")\n",
    "print(f\"Total Revenue: ₹{total_revenue:,.2f}\")\n",
    "print(f\"Average Transaction Value: ₹{avg_transaction_value:,.2f}\")\n",
    "print(f\"Total Fraudulent Transactions: {fraud_count}\")\n"
   ]
  },
  {
   "cell_type": "markdown",
   "id": "4eda1c08",
   "metadata": {},
   "source": [
    "## Step 5 : Exploratory Data Analysis (EDA)"
   ]
  },
  {
   "cell_type": "markdown",
   "id": "074d16c8-ef03-480c-8246-1456929bd109",
   "metadata": {},
   "source": [
    "### Step 5.1 : Fraud Analysis by Region"
   ]
  },
  {
   "cell_type": "code",
   "execution_count": 25,
   "id": "2369ce55",
   "metadata": {},
   "outputs": [
    {
     "data": {
      "image/png": "[encoded data removed]",
      "text/plain": [
       "<Figure size 500x400 with 1 Axes>"
      ]
     },
     "metadata": {},
     "output_type": "display_data"
    }
   ],
   "source": [
    "fraud_region = df[df['IsFraud'] == 1]['Region'].value_counts()\n",
    "plt.figure(figsize=(5,4))\n",
    "sns.barplot(x=fraud_region.index, y=fraud_region.values, palette='viridis')\n",
    "plt.title('Fraud Transactions by Region')\n",
    "plt.xlabel('Region')\n",
    "plt.ylabel('Fraud Count')\n",
    "plt.tight_layout()\n",
    "plt.show()"
   ]
  },
  {
   "cell_type": "markdown",
   "id": "2405b8d9-f9ab-4945-a3f8-86b59403ba19",
   "metadata": {},
   "source": [
    "## 📌 Insights:\n",
    "- **East** region has the highest number of fraud cases, followed by **North** and **South**.\n",
    "- Regular monitoring should be implemented in these regions."
   ]
  },
  {
   "cell_type": "markdown",
   "id": "c76b04bd-2338-4444-92f4-8f025dd1c550",
   "metadata": {},
   "source": [
    "### Step 5.2 : Top 5 Cities by Revenue"
   ]
  },
  {
   "cell_type": "code",
   "execution_count": 16,
   "id": "5fd69bfc-72d4-4564-b41b-8194c353e58d",
   "metadata": {},
   "outputs": [
    {
     "data": {
      "image/png": "[encoded data removed]",
      "text/plain": [
       "<Figure size 800x500 with 1 Axes>"
      ]
     },
     "metadata": {},
     "output_type": "display_data"
    }
   ],
   "source": [
    "top_cities_revenue = df.groupby('City')['Amount'].sum().sort_values(ascending=False).head(5)\n",
    "\n",
    "plt.figure(figsize=(8,5))\n",
    "sns.barplot(x=top_cities_revenue.values, y=top_cities_revenue.index, palette='Blues_d')\n",
    "plt.title(\"Top 5 Cities by Revenue\")\n",
    "plt.xlabel(\"Total Revenue\")\n",
    "plt.ylabel(\"City\")\n",
    "plt.tight_layout()\n",
    "plt.show()\n"
   ]
  },
  {
   "cell_type": "markdown",
   "id": "aa00b2bd-48ac-41bb-bba8-8b47d5a79ca6",
   "metadata": {},
   "source": [
    "## 📌 Insights:\n",
    "**Kolkata**,**Delhi** and **Hyderabad** are the top contributors to revenue, making them prime cities for targeted marketing and customer engagement."
   ]
  },
  {
   "cell_type": "markdown",
   "id": "8d0cf2d9-48e1-47af-afd3-b4d2ff653567",
   "metadata": {},
   "source": [
    "### Step 5.3 : Fraud Percentage by Region"
   ]
  },
  {
   "cell_type": "code",
   "execution_count": 23,
   "id": "66ac0ea4-fe29-4b27-b57d-e1102cf665ec",
   "metadata": {},
   "outputs": [
    {
     "data": {
      "image/png": "[encoded data removed]",
      "text/plain": [
       "<Figure size 600x400 with 1 Axes>"
      ]
     },
     "metadata": {},
     "output_type": "display_data"
    }
   ],
   "source": [
    "# Fraud % by Region\n",
    "fraud_df = df[df['IsFraud'] == 1]\n",
    "total_by_region = df.groupby('Region').size()\n",
    "fraud_by_region = fraud_df.groupby('Region').size()\n",
    "\n",
    "fraud_percent = (fraud_by_region / total_by_region * 100).sort_values(ascending=False)\n",
    "\n",
    "plt.figure(figsize=(6,4))\n",
    "sns.barplot(x=fraud_percent.values, y=fraud_percent.index, palette='Reds')\n",
    "plt.title(\"Fraud % by Region\")\n",
    "plt.xlabel(\"Fraud Percentage (%)\")\n",
    "plt.ylabel(\"Region\")\n",
    "plt.tight_layout()\n",
    "plt.show()\n"
   ]
  },
  {
   "cell_type": "markdown",
   "id": "d186bf3f-4153-4de9-8370-1cd15996cf60",
   "metadata": {},
   "source": [
    "## 📌 Insights:\n",
    "Although **East** had the highest number of fraud cases(103), the **West region** has the highest **fraud percentage**(~5.05%). this indicates that \n",
    "**a higer share of transactions in the West are fraudulent**, making it critical risk zone."
   ]
  },
  {
   "cell_type": "markdown",
   "id": "0f99c229-1a60-457c-9531-7a82a7236ae3",
   "metadata": {},
   "source": [
    "## 🔥 Fraud Risk Heatmap - Fraud by Category and Region\n",
    "Visualising fraud intensity across different **categories and regions** helps identify fraud-prone combinations at a glance."
   ]
  },
  {
   "cell_type": "code",
   "execution_count": 9,
   "id": "26b3f425-fef9-4300-9eec-b95dc268ec09",
   "metadata": {},
   "outputs": [
    {
     "data": {
      "image/png": "[encoded data removed]",
      "text/plain": [
       "<Figure size 600x500 with 2 Axes>"
      ]
     },
     "metadata": {},
     "output_type": "display_data"
    }
   ],
   "source": [
    "heatmap_data = df[df['IsFraud'] == 1].pivot_table(index='Category', columns='Region', \n",
    "                                                   values='TransactionID', aggfunc='count', fill_value=0)\n",
    "\n",
    "plt.figure(figsize=(6,5))\n",
    "sns.heatmap(heatmap_data, annot=True, cmap='Reds')\n",
    "plt.title('Fraudulent Transactions by Category and Region')\n",
    "plt.xlabel('Region')\n",
    "plt.ylabel('Category')\n",
    "plt.tight_layout()\n",
    "plt.show()"
   ]
  },
  {
   "cell_type": "markdown",
   "id": "f6d166d8-8b4d-471e-a73f-30e45574e71b",
   "metadata": {},
   "source": [
    "## 📌 Insights:\n",
    " From the heatmap, the **Home Decor** category in the **East** region has the highest concentration of fraud (26 cases), followed closely by **Beauty** in the **South** (25).\n",
    "\n",
    "Lighter shades in other cells indicate lower fraud activity, helping businesses pinpoint and prioritize fraud prevention efforts.\n",
    "\n"
   ]
  }
 ],
 "metadata": {
  "kernelspec": {
   "display_name": "Python 3 (ipykernel)",
   "language": "python",
   "name": "python3"
  },
  "language_info": {
   "codemirror_mode": {
    "name": "ipython",
    "version": 3
   },
   "file_extension": ".py",
   "mimetype": "text/x-python",
   "name": "python",
   "nbconvert_exporter": "python",
   "pygments_lexer": "ipython3",
   "version": "3.12.4"
  }
 },
 "nbformat": 4,
 "nbformat_minor": 5
}
